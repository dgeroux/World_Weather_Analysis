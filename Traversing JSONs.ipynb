{
 "cells": [
  {
   "cell_type": "code",
   "execution_count": 1,
   "id": "dd1399a3",
   "metadata": {},
   "outputs": [],
   "source": [
    "import requests \n",
    "from config import weather_api_key"
   ]
  },
  {
   "cell_type": "code",
   "execution_count": 4,
   "id": "3e52eacd",
   "metadata": {},
   "outputs": [],
   "source": [
    "url = \"https://api.openweathermap.org/data/2.5/weather?\"\n",
    "city = 'London'"
   ]
  },
  {
   "cell_type": "code",
   "execution_count": 5,
   "id": "8c3592ba",
   "metadata": {},
   "outputs": [],
   "source": [
    "query_url = url + \"appid=\" + weather_api_key + \"&q\" + city"
   ]
  },
  {
   "cell_type": "code",
   "execution_count": 7,
   "id": "523734b9",
   "metadata": {},
   "outputs": [],
   "source": [
    "weather_response = requests.get(query_url)\n",
    "weather_json = weather_response.json()"
   ]
  },
  {
   "cell_type": "code",
   "execution_count": 8,
   "id": "fb458a9f",
   "metadata": {},
   "outputs": [
    {
     "data": {
      "text/plain": [
       "dict_keys(['cod', 'message'])"
      ]
     },
     "execution_count": 8,
     "metadata": {},
     "output_type": "execute_result"
    }
   ],
   "source": [
    "weather_json.keys()"
   ]
  },
  {
   "cell_type": "code",
   "execution_count": 9,
   "id": "cdf8edcc",
   "metadata": {},
   "outputs": [
    {
     "data": {
      "text/plain": [
       "'400'"
      ]
     },
     "execution_count": 9,
     "metadata": {},
     "output_type": "execute_result"
    }
   ],
   "source": [
    "weather_json.get(\"cod\")"
   ]
  },
  {
   "cell_type": "code",
   "execution_count": null,
   "id": "5573affb",
   "metadata": {},
   "outputs": [],
   "source": []
  }
 ],
 "metadata": {
  "kernelspec": {
   "display_name": "PythonData",
   "language": "python",
   "name": "pythondata"
  },
  "language_info": {
   "codemirror_mode": {
    "name": "ipython",
    "version": 3
   },
   "file_extension": ".py",
   "mimetype": "text/x-python",
   "name": "python",
   "nbconvert_exporter": "python",
   "pygments_lexer": "ipython3",
   "version": "3.7.11"
  }
 },
 "nbformat": 4,
 "nbformat_minor": 5
}
